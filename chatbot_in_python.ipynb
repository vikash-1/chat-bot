{
  "nbformat": 4,
  "nbformat_minor": 0,
  "metadata": {
    "colab": {
      "name": "chatbot in python",
      "provenance": [],
      "collapsed_sections": [],
      "authorship_tag": "ABX9TyPfv6w1YzGS7bjy9Snv1HMj",
      "include_colab_link": true
    },
    "kernelspec": {
      "name": "python3",
      "display_name": "Python 3"
    },
    "language_info": {
      "name": "python"
    }
  },
  "cells": [
    {
      "cell_type": "markdown",
      "metadata": {
        "id": "view-in-github",
        "colab_type": "text"
      },
      "source": [
        "<a href=\"https://colab.research.google.com/github/vikash-1/chat-bot/blob/main/chatbot_in_python.ipynb\" target=\"_parent\"><img src=\"https://colab.research.google.com/assets/colab-badge.svg\" alt=\"Open In Colab\"/></a>"
      ]
    },
    {
      "cell_type": "code",
      "metadata": {
        "id": "kRrQm15UJuRI"
      },
      "source": [
        "# importing libraries for chatbot\n",
        "\n",
        "import numpy as np\n",
        "import nltk\n",
        "import string\n",
        "import random"
      ],
      "execution_count": null,
      "outputs": []
    },
    {
      "cell_type": "code",
      "metadata": {
        "id": "GnjQXyo3KAKm",
        "colab": {
          "base_uri": "https://localhost:8080/"
        },
        "outputId": "d750843e-97e5-46d4-871a-56f4409c62ca"
      },
      "source": [
        " # importing and reading the corpus\n",
        "f=open('chatbot-corpus.txt','r',errors='ignore')\n",
        "raw_doc=f.read()\n",
        "raw_doc=raw_doc.lower()   #convert the text to lowercase\n",
        "nltk.download('punkt')    #using the Punkt tokenizer\n",
        "nltk.download('wordnet')    # using the WordNet dictionary\n",
        "sent_tokens =nltk.sent_tokenize(raw_doc)  #convert doc to list of sentenced\n",
        "word_tokens =nltk.word_tokenize(raw_doc)  # convert doc to list of words\n",
        "                                                                                                                      "
      ],
      "execution_count": null,
      "outputs": [
        {
          "output_type": "stream",
          "text": [
            "[nltk_data] Downloading package punkt to /root/nltk_data...\n",
            "[nltk_data]   Package punkt is already up-to-date!\n",
            "[nltk_data] Downloading package wordnet to /root/nltk_data...\n",
            "[nltk_data]   Package wordnet is already up-to-date!\n"
          ],
          "name": "stdout"
        }
      ]
    },
    {
      "cell_type": "code",
      "metadata": {
        "id": "NygXRTSdXHb1"
      },
      "source": [
        "sent_tokens[:2]"
      ],
      "execution_count": null,
      "outputs": []
    },
    {
      "cell_type": "code",
      "metadata": {
        "id": "SVh1ZoC5XMOd"
      },
      "source": [
        "word_tokens[:4]"
      ],
      "execution_count": null,
      "outputs": []
    },
    {
      "cell_type": "code",
      "metadata": {
        "id": "1cXjjlR0XWeN"
      },
      "source": [
        "# text processing\n",
        "lemmer = nltk.stem.WordNetLemmatizer()\n",
        "\n",
        "#wordnet is a semantically_oriented dictionary of English included in NLTK.\n",
        "\n",
        "def LenTokens(tokens):\n",
        "    return[lemmer.lemmatize(token) for token in tokens]\n",
        "remove_punct_dict = dict((ord(punct) , None) for punct in string.punctuation)\n",
        "\n",
        "def LenNormalize(text):\n",
        "  return LenTokens(nltk.word_tokenize(text.lower().translate(remove_punct_dict)))"
      ],
      "execution_count": null,
      "outputs": []
    },
    {
      "cell_type": "code",
      "metadata": {
        "id": "oNdCNIvAFEfM"
      },
      "source": [
        "GREET_INPUTS = (\"hello\",\"hi\",\"greetings\",\"sup\",\"what's up\",\"hey\")\n",
        "GREET_RESPONSES = [\"hi\",\"hey\",\"hi there\",\"hello\",\"I am glad! You are talking to me\"]\n",
        "if GREET_RESPONSES==\"how are you\":\n",
        "  print(\"I am fine thankyou\")\n",
        "\n",
        "def greet(sentence):\n",
        "\n",
        "  for word in sentence.split():\n",
        "    if word.lower() in GREET_INPUTS:\n",
        "      return random.choice(GREET_RESPONSES)"
      ],
      "execution_count": null,
      "outputs": []
    },
    {
      "cell_type": "code",
      "metadata": {
        "id": "sLVPhlAQFgGH"
      },
      "source": [
        "from sklearn.feature_extraction.text import TfidfVectorizer\n",
        "from sklearn.metrics.pairwise import cosine_similarity"
      ],
      "execution_count": null,
      "outputs": []
    },
    {
      "cell_type": "code",
      "metadata": {
        "id": "-kgeZ36GrnZR"
      },
      "source": [
        "def response(user_response):\n",
        "  robol_response=''\n",
        "  TfidfVec = TfidfVectorizer(tokenizer=LenNormalize,stop_words='english')\n",
        "  tfidf=TfidfVec.fit_transform(sent_tokens)\n",
        "  vals = cosine_similarity(tfidf[-1],tfidf)\n",
        "  idx=vals.argsort()[0][-2]\n",
        "  flat =vals.flatten()\n",
        "  flat.sort()\n",
        "  req_tfidf = flat[-2]\n",
        "  if (req_tfidf==0):\n",
        "    robol_response=robol_response+\"I am sorry ! I don't understand you\"\n",
        "    return robol_response\n",
        "  else:\n",
        "    robol_response=robol_response+sent_tokens[idx]  \n",
        "    return robol_response"
      ],
      "execution_count": null,
      "outputs": []
    },
    {
      "cell_type": "code",
      "metadata": {
        "id": "-WodK2KwNaE6"
      },
      "source": [
        ""
      ],
      "execution_count": null,
      "outputs": []
    },
    {
      "cell_type": "code",
      "metadata": {
        "id": "jeTZfShPOE4k"
      },
      "source": [
        ""
      ],
      "execution_count": null,
      "outputs": []
    },
    {
      "cell_type": "code",
      "metadata": {
        "id": "Xd3_nhrYtQmu",
        "colab": {
          "base_uri": "https://localhost:8080/"
        },
        "outputId": "e0dd7718-b300-4652-d5c9-494377e1e68f"
      },
      "source": [
        "# defining conversion start/end protocols\n",
        "\n",
        "flag=True\n",
        "print(\"BOT: My name is Jarvis. Let's have a conversation! Also,if you want to exit any time,just type Bye!\")\n",
        "while(flag==True):\n",
        "  user_response = input()\n",
        "  user_response=user_response.lower()\n",
        "  if (user_response!='bye'):\n",
        "    if (user_response=='thanks' or user_response=='thank you'):\n",
        "      flag=False\n",
        "      print(\"BOT: You are welcome..\")\n",
        "    else:\n",
        "       if (greet(user_response)!=None):\n",
        "         print(\"BOT: \" +greet(user_response)) \n",
        "       else:\n",
        "         sent_tokens.append(user_response)\n",
        "         word_tokens=word_tokens+nltk.word_tokenize(user_response)\n",
        "         final_words=list(set(word_tokens))\n",
        "         print(\"BOT: \",end=\"\")\n",
        "         print(response(user_response))\n",
        "         sent_tokens.remove(user_response)\n",
        "\n",
        "\n",
        "  else:  \n",
        "      flag=False\n",
        "      print(\"BOT: Goodbye! take care ...\")   \n",
        "\n",
        "\n"
      ],
      "execution_count": null,
      "outputs": [
        {
          "output_type": "stream",
          "text": [
            "BOT: My name is Jarvis. Let's have a conversation! Also,if you want to exit any time,just type Bye!\n",
            "hi\n",
            "BOT: hi\n",
            "data science\n"
          ],
          "name": "stdout"
        },
        {
          "output_type": "stream",
          "text": [
            "/usr/local/lib/python3.7/dist-packages/sklearn/feature_extraction/text.py:385: UserWarning: Your stop_words may be inconsistent with your preprocessing. Tokenizing the stop words generated tokens ['ha', 'le', 'u', 'wa'] not in stop_words.\n",
            "  'stop_words.' % sorted(inconsistent))\n"
          ],
          "name": "stderr"
        },
        {
          "output_type": "stream",
          "text": [
            "BOT: however, data science is different from computer science and information science.\n"
          ],
          "name": "stdout"
        }
      ]
    },
    {
      "cell_type": "code",
      "metadata": {
        "id": "yruSW4QS2_4y"
      },
      "source": [
        ""
      ],
      "execution_count": null,
      "outputs": []
    }
  ]
}